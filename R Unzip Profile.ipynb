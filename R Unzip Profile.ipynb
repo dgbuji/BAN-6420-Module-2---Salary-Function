{
 "cells": [
  {
   "cell_type": "code",
   "execution_count": 15,
   "id": "0eee537a-891b-4abe-99d6-a782b3e1aa6d",
   "metadata": {},
   "outputs": [],
   "source": [
    "# Define the zip file path\n",
    "zip_path <- \"Employee Profile.zip\"\n",
    "\n",
    "# Unzip contents to the current working directory\n",
    "unzip(zip_path)"
   ]
  },
  {
   "cell_type": "code",
   "execution_count": 17,
   "id": "91fbb600-efe1-420f-a173-cc258f3d792e",
   "metadata": {},
   "outputs": [
    {
     "name": "stdout",
     "output_type": "stream",
     "text": [
      "[1] \"Gary_Jimenez_Profile.csv\" \"Kim_Brewer_Profile.csv\"  \n"
     ]
    }
   ],
   "source": [
    "# List files matching the pattern\n",
    "csv_file <- list.files(pattern = \"_Profile.csv\")\n",
    "print(csv_file)  # Check that a file is listed"
   ]
  },
  {
   "cell_type": "code",
   "execution_count": 19,
   "id": "a58b24be-80f0-41bf-a7ac-bfd1fc00eedb",
   "metadata": {},
   "outputs": [
    {
     "name": "stdout",
     "output_type": "stream",
     "text": [
      "  Id                        JobTitle BasePay OvertimePay OtherPay Benefits\n",
      "1  2 CAPTAIN III (POLICE DEPARTMENT)  155966    245131.9 137811.4       NA\n",
      "  TotalPay TotalPayBenefits Year Notes        Agency Status\n",
      "1 538909.3         538909.3 2011    NA San Francisco     NA\n"
     ]
    }
   ],
   "source": [
    "# Read the first CSV found\n",
    "data <- read.csv(csv_file[1], stringsAsFactors = FALSE)\n",
    "print(data)"
   ]
  },
  {
   "cell_type": "code",
   "execution_count": null,
   "id": "5b4d7d3f-69d5-424a-8fc0-3ea4046bb6f8",
   "metadata": {},
   "outputs": [],
   "source": []
  }
 ],
 "metadata": {
  "kernelspec": {
   "display_name": "R",
   "language": "R",
   "name": "ir"
  },
  "language_info": {
   "codemirror_mode": "r",
   "file_extension": ".r",
   "mimetype": "text/x-r-source",
   "name": "R",
   "pygments_lexer": "r",
   "version": "4.5.0"
  }
 },
 "nbformat": 4,
 "nbformat_minor": 5
}
