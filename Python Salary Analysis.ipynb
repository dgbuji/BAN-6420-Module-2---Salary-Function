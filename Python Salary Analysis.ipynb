{
 "cells": [
  {
   "cell_type": "code",
   "execution_count": 1,
   "id": "3e89d21c-4868-4d81-bbf9-a4e5937ee4f1",
   "metadata": {},
   "outputs": [
    {
     "name": "stdout",
     "output_type": "stream",
     "text": [
      "Collecting kaggle\n",
      "  Downloading kaggle-1.7.4.5-py3-none-any.whl.metadata (16 kB)\n",
      "Requirement already satisfied: bleach in c:\\users\\hp\\anaconda3\\lib\\site-packages (from kaggle) (4.1.0)\n",
      "Requirement already satisfied: certifi>=14.05.14 in c:\\users\\hp\\anaconda3\\lib\\site-packages (from kaggle) (2025.4.26)\n",
      "Requirement already satisfied: charset-normalizer in c:\\users\\hp\\anaconda3\\lib\\site-packages (from kaggle) (2.0.4)\n",
      "Requirement already satisfied: idna in c:\\users\\hp\\anaconda3\\lib\\site-packages (from kaggle) (3.4)\n",
      "Requirement already satisfied: protobuf in c:\\users\\hp\\anaconda3\\lib\\site-packages (from kaggle) (3.20.3)\n",
      "Requirement already satisfied: python-dateutil>=2.5.3 in c:\\users\\hp\\anaconda3\\lib\\site-packages (from kaggle) (2.8.2)\n",
      "Requirement already satisfied: python-slugify in c:\\users\\hp\\anaconda3\\lib\\site-packages (from kaggle) (5.0.2)\n",
      "Requirement already satisfied: requests in c:\\users\\hp\\anaconda3\\lib\\site-packages (from kaggle) (2.32.3)\n",
      "Requirement already satisfied: setuptools>=21.0.0 in c:\\users\\hp\\anaconda3\\lib\\site-packages (from kaggle) (68.2.2)\n",
      "Requirement already satisfied: six>=1.10 in c:\\users\\hp\\anaconda3\\lib\\site-packages (from kaggle) (1.16.0)\n",
      "Requirement already satisfied: text-unidecode in c:\\users\\hp\\anaconda3\\lib\\site-packages (from kaggle) (1.3)\n",
      "Requirement already satisfied: tqdm in c:\\users\\hp\\anaconda3\\lib\\site-packages (from kaggle) (4.65.0)\n",
      "Requirement already satisfied: urllib3>=1.15.1 in c:\\users\\hp\\anaconda3\\lib\\site-packages (from kaggle) (2.0.7)\n",
      "Requirement already satisfied: webencodings in c:\\users\\hp\\anaconda3\\lib\\site-packages (from kaggle) (0.5.1)\n",
      "Requirement already satisfied: packaging in c:\\users\\hp\\anaconda3\\lib\\site-packages (from bleach->kaggle) (23.1)\n",
      "Requirement already satisfied: colorama in c:\\users\\hp\\anaconda3\\lib\\site-packages (from tqdm->kaggle) (0.4.6)\n",
      "Downloading kaggle-1.7.4.5-py3-none-any.whl (181 kB)\n",
      "   ---------------------------------------- 0.0/181.2 kB ? eta -:--:--\n",
      "   ---- ---------------------------------- 20.5/181.2 kB 217.9 kB/s eta 0:00:01\n",
      "   ------ -------------------------------- 30.7/181.2 kB 259.2 kB/s eta 0:00:01\n",
      "   -------- ------------------------------ 41.0/181.2 kB 279.3 kB/s eta 0:00:01\n",
      "   --------------- ----------------------- 71.7/181.2 kB 391.3 kB/s eta 0:00:01\n",
      "   --------------------------- ---------- 133.1/181.2 kB 522.9 kB/s eta 0:00:01\n",
      "   ------------------------------------ - 174.1/181.2 kB 655.4 kB/s eta 0:00:01\n",
      "   ------------------------------------ - 174.1/181.2 kB 655.4 kB/s eta 0:00:01\n",
      "   ------------------------------------ - 174.1/181.2 kB 655.4 kB/s eta 0:00:01\n",
      "   ------------------------------------ - 174.1/181.2 kB 655.4 kB/s eta 0:00:01\n",
      "   ------------------------------------ - 174.1/181.2 kB 655.4 kB/s eta 0:00:01\n",
      "   -------------------------------------- 181.2/181.2 kB 342.0 kB/s eta 0:00:00\n",
      "Installing collected packages: kaggle\n",
      "Successfully installed kaggle-1.7.4.5\n"
     ]
    }
   ],
   "source": [
    "!pip install kaggle"
   ]
  },
  {
   "cell_type": "code",
   "execution_count": 7,
   "id": "e48050d5-50d6-4712-bc03-26c0ac1aa894",
   "metadata": {},
   "outputs": [
    {
     "name": "stdout",
     "output_type": "stream",
     "text": [
      "Dataset URL: https://www.kaggle.com/datasets/kaggle/sf-salaries\n",
      "License(s): CC0-1.0\n",
      "sf-salaries.zip: Skipping, found more recently modified local copy (use --force to force download)\n"
     ]
    },
    {
     "name": "stderr",
     "output_type": "stream",
     "text": [
      "C:\\Users\\HP\\AppData\\Local\\Temp\\ipykernel_11988\\3042151471.py:13: DtypeWarning: Columns (3,4,5,6,12) have mixed types. Specify dtype option on import or set low_memory=False.\n",
      "  df = pd.read_csv('Salaries.csv')\n"
     ]
    },
    {
     "name": "stdout",
     "output_type": "stream",
     "text": [
      "   Id       EmployeeName                                        JobTitle  \\\n",
      "0   1     NATHANIEL FORD  GENERAL MANAGER-METROPOLITAN TRANSIT AUTHORITY   \n",
      "1   2       GARY JIMENEZ                 CAPTAIN III (POLICE DEPARTMENT)   \n",
      "2   3     ALBERT PARDINI                 CAPTAIN III (POLICE DEPARTMENT)   \n",
      "3   4  CHRISTOPHER CHONG            WIRE ROPE CABLE MAINTENANCE MECHANIC   \n",
      "4   5    PATRICK GARDNER    DEPUTY CHIEF OF DEPARTMENT,(FIRE DEPARTMENT)   \n",
      "\n",
      "     BasePay OvertimePay   OtherPay Benefits   TotalPay  TotalPayBenefits  \\\n",
      "0  167411.18         0.0  400184.25      NaN  567595.43         567595.43   \n",
      "1  155966.02   245131.88  137811.38      NaN  538909.28         538909.28   \n",
      "2  212739.13   106088.18    16452.6      NaN  335279.91         335279.91   \n",
      "3    77916.0    56120.71   198306.9      NaN  332343.61         332343.61   \n",
      "4   134401.6      9737.0  182234.59      NaN  326373.19         326373.19   \n",
      "\n",
      "   Year  Notes         Agency Status  \n",
      "0  2011    NaN  San Francisco    NaN  \n",
      "1  2011    NaN  San Francisco    NaN  \n",
      "2  2011    NaN  San Francisco    NaN  \n",
      "3  2011    NaN  San Francisco    NaN  \n",
      "4  2011    NaN  San Francisco    NaN  \n"
     ]
    }
   ],
   "source": [
    "import os\n",
    "import pandas as pd\n",
    "import zipfile\n",
    "\n",
    "# Download the dataset\n",
    "!kaggle datasets download -d kaggle/sf-salaries\n",
    "\n",
    "# Unzip the dataset\n",
    "with zipfile.ZipFile('sf-salaries.zip', 'r') as zip_ref:\n",
    "    zip_ref.extractall()\n",
    "\n",
    "# Read the CSV file\n",
    "df = pd.read_csv('Salaries.csv')\n",
    "\n",
    "print(df.head())"
   ]
  },
  {
   "cell_type": "code",
   "execution_count": 11,
   "id": "a6bad438-3c9e-4c03-bf09-2f5db9fa337e",
   "metadata": {},
   "outputs": [
    {
     "data": {
      "text/plain": [
       "BasePay             float64\n",
       "OvertimePay         float64\n",
       "OtherPay            float64\n",
       "Benefits            float64\n",
       "TotalPay            float64\n",
       "TotalPayBenefits    float64\n",
       "dtype: object"
      ]
     },
     "execution_count": 11,
     "metadata": {},
     "output_type": "execute_result"
    }
   ],
   "source": [
    "# List of columns that should be numeric\n",
    "columns_to_convert = ['BasePay', 'OvertimePay', 'OtherPay', 'Benefits', 'TotalPay', 'TotalPayBenefits']\n",
    "\n",
    "# Convert them to numeric, coercing errors to NaN\n",
    "for col in columns_to_convert:\n",
    "    df[col] = pd.to_numeric(df[col], errors='coerce')\n",
    "\n",
    "# Confirm the data types are now numeric\n",
    "df[columns_to_convert].dtypes\n"
   ]
  },
  {
   "cell_type": "code",
   "execution_count": 13,
   "id": "7046c7aa-9446-49d1-aa4d-ae56ede80c06",
   "metadata": {},
   "outputs": [
    {
     "name": "stdout",
     "output_type": "stream",
     "text": [
      "<class 'pandas.core.frame.DataFrame'>\n",
      "RangeIndex: 148654 entries, 0 to 148653\n",
      "Data columns (total 13 columns):\n",
      " #   Column            Non-Null Count   Dtype  \n",
      "---  ------            --------------   -----  \n",
      " 0   Id                148654 non-null  int64  \n",
      " 1   EmployeeName      148654 non-null  object \n",
      " 2   JobTitle          148654 non-null  object \n",
      " 3   BasePay           148045 non-null  float64\n",
      " 4   OvertimePay       148650 non-null  float64\n",
      " 5   OtherPay          148650 non-null  float64\n",
      " 6   Benefits          112491 non-null  float64\n",
      " 7   TotalPay          148654 non-null  float64\n",
      " 8   TotalPayBenefits  148654 non-null  float64\n",
      " 9   Year              148654 non-null  int64  \n",
      " 10  Notes             0 non-null       float64\n",
      " 11  Agency            148654 non-null  object \n",
      " 12  Status            38119 non-null   object \n",
      "dtypes: float64(7), int64(2), object(4)\n",
      "memory usage: 14.7+ MB\n",
      "None\n",
      "   Id       EmployeeName                                        JobTitle  \\\n",
      "0   1     NATHANIEL FORD  GENERAL MANAGER-METROPOLITAN TRANSIT AUTHORITY   \n",
      "1   2       GARY JIMENEZ                 CAPTAIN III (POLICE DEPARTMENT)   \n",
      "2   3     ALBERT PARDINI                 CAPTAIN III (POLICE DEPARTMENT)   \n",
      "3   4  CHRISTOPHER CHONG            WIRE ROPE CABLE MAINTENANCE MECHANIC   \n",
      "4   5    PATRICK GARDNER    DEPUTY CHIEF OF DEPARTMENT,(FIRE DEPARTMENT)   \n",
      "\n",
      "     BasePay  OvertimePay   OtherPay  Benefits   TotalPay  TotalPayBenefits  \\\n",
      "0  167411.18         0.00  400184.25       NaN  567595.43         567595.43   \n",
      "1  155966.02    245131.88  137811.38       NaN  538909.28         538909.28   \n",
      "2  212739.13    106088.18   16452.60       NaN  335279.91         335279.91   \n",
      "3   77916.00     56120.71  198306.90       NaN  332343.61         332343.61   \n",
      "4  134401.60      9737.00  182234.59       NaN  326373.19         326373.19   \n",
      "\n",
      "   Year  Notes         Agency Status  \n",
      "0  2011    NaN  San Francisco    NaN  \n",
      "1  2011    NaN  San Francisco    NaN  \n",
      "2  2011    NaN  San Francisco    NaN  \n",
      "3  2011    NaN  San Francisco    NaN  \n",
      "4  2011    NaN  San Francisco    NaN  \n"
     ]
    }
   ],
   "source": [
    "print(df.info())\n",
    "print(df.head())"
   ]
  },
  {
   "cell_type": "code",
   "execution_count": 15,
   "id": "e9b2e68c-7180-4a0f-85c6-7278ea8f4e4d",
   "metadata": {},
   "outputs": [],
   "source": [
    "    #Find and return employee details from the salary DataFrame.\n",
    "    #Parameters:\n",
    "    #- name (str): Name of the employee to search.\n",
    "    #- df (DataFrame): The salary DataFrame.\n",
    "    #Returns:\n",
    "    #- DataFrame containing matching employee(s) info or a message if not found.\n",
    "\n",
    "def find_employee(name, df):\n",
    "    try:\n",
    "        if not isinstance(name, str):\n",
    "            raise TypeError(\"Please enter a valid string for the employee name.\")\n",
    "        \n",
    "        # Case-insensitive search\n",
    "        result = df[df['EmployeeName'].str.lower() == name.lower()]\n",
    "        \n",
    "        if result.empty:\n",
    "            print(f\"No employee found with name: {name}\")\n",
    "        else:\n",
    "            return result\n",
    "\n",
    "    except Exception as e:\n",
    "        print(f\"An error occurred: {e}\")"
   ]
  },
  {
   "cell_type": "code",
   "execution_count": 17,
   "id": "11138bee-5af6-47f1-92e7-ed117c0e6371",
   "metadata": {},
   "outputs": [
    {
     "name": "stdout",
     "output_type": "stream",
     "text": [
      "   Id  EmployeeName                         JobTitle    BasePay  OvertimePay  \\\n",
      "1   2  GARY JIMENEZ  CAPTAIN III (POLICE DEPARTMENT)  155966.02    245131.88   \n",
      "\n",
      "    OtherPay  Benefits   TotalPay  TotalPayBenefits  Year  Notes  \\\n",
      "1  137811.38       NaN  538909.28         538909.28  2011    NaN   \n",
      "\n",
      "          Agency Status  \n",
      "1  San Francisco    NaN  \n"
     ]
    }
   ],
   "source": [
    "print(find_employee(\"GARY JIMENEZ\", df))"
   ]
  },
  {
   "cell_type": "code",
   "execution_count": 19,
   "id": "f9820506-0013-4890-8638-a0eee614c1a3",
   "metadata": {},
   "outputs": [
    {
     "name": "stdout",
     "output_type": "stream",
     "text": [
      "No employee found with name: DANIEL GBUJI\n",
      "None\n"
     ]
    }
   ],
   "source": [
    "print(find_employee(\"DANIEL GBUJI\", df))"
   ]
  },
  {
   "cell_type": "code",
   "execution_count": 21,
   "id": "c2fb41d9-cb7f-4d13-9c93-bb2e9f406d28",
   "metadata": {},
   "outputs": [
    {
     "name": "stdout",
     "output_type": "stream",
     "text": [
      "   Id  EmployeeName                         JobTitle    BasePay  OvertimePay  \\\n",
      "1   2  GARY JIMENEZ  CAPTAIN III (POLICE DEPARTMENT)  155966.02    245131.88   \n",
      "\n",
      "    OtherPay  Benefits   TotalPay  TotalPayBenefits  Year  Notes  \\\n",
      "1  137811.38       NaN  538909.28         538909.28  2011    NaN   \n",
      "\n",
      "          Agency Status  \n",
      "1  San Francisco    NaN  \n"
     ]
    }
   ],
   "source": [
    "print(find_employee(\"gary jimenez\", df))"
   ]
  },
  {
   "cell_type": "code",
   "execution_count": 23,
   "id": "dabca3a6-2a1b-4892-b745-6949bc9f5eed",
   "metadata": {},
   "outputs": [
    {
     "name": "stdout",
     "output_type": "stream",
     "text": [
      "An error occurred: Please enter a valid string for the employee name.\n",
      "None\n"
     ]
    }
   ],
   "source": [
    "print(find_employee(12345, df))"
   ]
  },
  {
   "cell_type": "code",
   "execution_count": 41,
   "id": "00cae73f-529f-4551-8d7c-69bcfb1be488",
   "metadata": {},
   "outputs": [
    {
     "name": "stdout",
     "output_type": "stream",
     "text": [
      "            Id EmployeeName                 JobTitle   BasePay  OvertimePay  \\\n",
      "32048    32049   KIM BREWER  PARKING CONTROL OFFICER   8600.14         0.00   \n",
      "60085    60086   Kim Brewer  Parking Control Officer  50818.20      3050.84   \n",
      "148643  148644   Kim Brewer  Parking Control Officer      0.00         0.00   \n",
      "\n",
      "        OtherPay  Benefits  TotalPay  TotalPayBenefits  Year  Notes  \\\n",
      "32048     105.06       NaN   8705.20           8705.20  2011    NaN   \n",
      "60085    1358.30   25964.4  55227.34          81191.74  2012    NaN   \n",
      "148643      0.00       0.0      0.00              0.00  2014    NaN   \n",
      "\n",
      "               Agency Status  \n",
      "32048   San Francisco    NaN  \n",
      "60085   San Francisco    NaN  \n",
      "148643  San Francisco     PT  \n"
     ]
    }
   ],
   "source": [
    "print(find_employee(\"KIM BREWER\", df))"
   ]
  },
  {
   "cell_type": "code",
   "execution_count": 43,
   "id": "5b180e7e-32f4-4245-8e62-4195d04f7241",
   "metadata": {},
   "outputs": [],
   "source": [
    "# Step 1: Build the dictionary from the DataFrame\n",
    "def build_salary_dict(df):\n",
    "    salary_dict = {}\n",
    "    for _, row in df.iterrows():\n",
    "        name = row['EmployeeName'].strip().lower()\n",
    "        salary_dict[name] = row.drop(labels='EmployeeName').to_dict()\n",
    "    return salary_dict\n",
    "\n",
    "# Step 2: Create the salary data dictionary\n",
    "salary_data_dict = build_salary_dict(df)\n",
    "\n",
    "# Step 3: Define the employee lookup function with error handling\n",
    "def lookup_employee(name, salary_dict):\n",
    "    try:\n",
    "        if not isinstance(name, str):\n",
    "            raise TypeError(\"Employee name must be a string.\")\n",
    "        \n",
    "        name_key = name.strip().lower()\n",
    "        if name_key not in salary_dict:\n",
    "            raise ValueError(f\"No employee found with name '{name}'.\")\n",
    "        \n",
    "        return salary_dict[name_key]\n",
    "    \n",
    "    except Exception as e:\n",
    "        return f\"An error occurred: {e}\""
   ]
  },
  {
   "cell_type": "code",
   "execution_count": 45,
   "id": "eb7b93dd-5c62-474b-a59d-6f9932adf7c5",
   "metadata": {},
   "outputs": [
    {
     "name": "stdout",
     "output_type": "stream",
     "text": [
      "{'Id': 2, 'JobTitle': 'CAPTAIN III (POLICE DEPARTMENT)', 'BasePay': 155966.02, 'OvertimePay': 245131.88, 'OtherPay': 137811.38, 'Benefits': nan, 'TotalPay': 538909.28, 'TotalPayBenefits': 538909.28, 'Year': 2011, 'Notes': nan, 'Agency': 'San Francisco', 'Status': nan}\n"
     ]
    }
   ],
   "source": [
    "print(lookup_employee(\"Gary Jimenez\", salary_data_dict))"
   ]
  },
  {
   "cell_type": "code",
   "execution_count": 48,
   "id": "fa78c3c4-4a9a-4ee3-a152-a8f16fd6a3af",
   "metadata": {},
   "outputs": [
    {
     "name": "stdout",
     "output_type": "stream",
     "text": [
      "{'Id': 148644, 'JobTitle': 'Parking Control Officer', 'BasePay': 0.0, 'OvertimePay': 0.0, 'OtherPay': 0.0, 'Benefits': 0.0, 'TotalPay': 0.0, 'TotalPayBenefits': 0.0, 'Year': 2014, 'Notes': nan, 'Agency': 'San Francisco', 'Status': 'PT'}\n"
     ]
    }
   ],
   "source": [
    "print(lookup_employee(\"Kim Brewer\", salary_data_dict))"
   ]
  },
  {
   "cell_type": "code",
   "execution_count": 50,
   "id": "36ccba7d-c4b0-4cc7-8d68-895d91b32159",
   "metadata": {},
   "outputs": [
    {
     "name": "stdout",
     "output_type": "stream",
     "text": [
      "An error occurred: No employee found with name 'DANIEL GBUJI'.\n"
     ]
    }
   ],
   "source": [
    "print(lookup_employee(\"DANIEL GBUJI\", salary_data_dict))"
   ]
  },
  {
   "cell_type": "code",
   "execution_count": 52,
   "id": "e0bd8acc-2455-4e05-a5ca-8b9c3d80e153",
   "metadata": {},
   "outputs": [
    {
     "name": "stdout",
     "output_type": "stream",
     "text": [
      "An error occurred: No employee found with name '12345'.\n"
     ]
    }
   ],
   "source": [
    "print(lookup_employee(\"12345\", salary_data_dict))"
   ]
  },
  {
   "cell_type": "code",
   "execution_count": 54,
   "id": "d7186a05-527d-4dc1-9599-21f78d6d2441",
   "metadata": {},
   "outputs": [
    {
     "name": "stdout",
     "output_type": "stream",
     "text": [
      "An error occurred: Employee name must be a string.\n"
     ]
    }
   ],
   "source": [
    "print(lookup_employee(12345, salary_data_dict))"
   ]
  },
  {
   "cell_type": "code",
   "execution_count": 68,
   "id": "524820fb-7e8a-4b02-a00f-f8bfe4978285",
   "metadata": {},
   "outputs": [],
   "source": [
    "export_employee_details(\"Gary Jimenez\", salary_data_dict)"
   ]
  },
  {
   "cell_type": "code",
   "execution_count": 82,
   "id": "56a3260c-c9c6-4a7c-9570-7abaedefa7d0",
   "metadata": {},
   "outputs": [],
   "source": [
    "import pandas as pd\n",
    "import os\n",
    "import zipfile\n",
    "\n",
    "def export_employee_details(name, salary_dict):\n",
    "    try:\n",
    "        # Lookup employee details\n",
    "        details = lookup_employee(name, salary_dict)\n",
    "\n",
    "        # Handle error string from lookup_employee\n",
    "        if isinstance(details, str):\n",
    "            print(\"Lookup error:\", details)\n",
    "            return\n",
    "\n",
    "        # Convert to DataFrame\n",
    "        df = pd.DataFrame([details])\n",
    "\n",
    "        # Create filename and zip name\n",
    "        filename = f\"{name.title().replace(' ', '_')}_Profile.csv\"\n",
    "        zip_filename = \"Employee Profile.zip\"\n",
    "\n",
    "        # Save the CSV\n",
    "        df.to_csv(filename, index=False)\n",
    "\n",
    "        # Zip the file\n",
    "        with zipfile.ZipFile(zip_filename, 'w', zipfile.ZIP_DEFLATED) as zipf:\n",
    "            zipf.write(filename)\n",
    "\n",
    "        print(f\"Exported and zipped employee details to '{zip_filename}'.\")\n",
    "\n",
    "    except Exception as e:\n",
    "        print(f\"An error occurred: {e}\")"
   ]
  },
  {
   "cell_type": "code",
   "execution_count": 86,
   "id": "c8df6db6-f059-42d0-887b-554913134882",
   "metadata": {},
   "outputs": [
    {
     "name": "stdout",
     "output_type": "stream",
     "text": [
      "Exported and zipped employee details to 'Employee Profile.zip'.\n"
     ]
    }
   ],
   "source": [
    "export_employee_details(\"Gary Jimenez\", salary_data_dict)"
   ]
  },
  {
   "cell_type": "code",
   "execution_count": 90,
   "id": "d6b94df2-1206-4161-87f4-f7b6486bae36",
   "metadata": {},
   "outputs": [
    {
     "name": "stdout",
     "output_type": "stream",
     "text": [
      "Exported and zipped employee details to 'Employee Profile.zip'.\n"
     ]
    }
   ],
   "source": [
    "export_employee_details(\"Kim Brewer\", salary_data_dict)"
   ]
  },
  {
   "cell_type": "code",
   "execution_count": null,
   "id": "63b461eb-d7c3-4aa1-be61-67c53ea4923e",
   "metadata": {},
   "outputs": [],
   "source": []
  },
  {
   "cell_type": "code",
   "execution_count": null,
   "id": "297669f1-7b7f-47eb-bb96-b7168936465f",
   "metadata": {},
   "outputs": [],
   "source": []
  },
  {
   "cell_type": "code",
   "execution_count": null,
   "id": "a6414c65-899a-44e8-b924-373cf4e0e7aa",
   "metadata": {},
   "outputs": [],
   "source": []
  },
  {
   "cell_type": "code",
   "execution_count": null,
   "id": "45e047d8-93ff-4234-a479-663d8d18b42d",
   "metadata": {},
   "outputs": [],
   "source": []
  }
 ],
 "metadata": {
  "kernelspec": {
   "display_name": "Python 3 (ipykernel)",
   "language": "python",
   "name": "python3"
  },
  "language_info": {
   "codemirror_mode": {
    "name": "ipython",
    "version": 3
   },
   "file_extension": ".py",
   "mimetype": "text/x-python",
   "name": "python",
   "nbconvert_exporter": "python",
   "pygments_lexer": "ipython3",
   "version": "3.11.7"
  }
 },
 "nbformat": 4,
 "nbformat_minor": 5
}
